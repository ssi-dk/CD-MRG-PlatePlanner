{
 "cells": [
  {
   "cell_type": "code",
   "execution_count": 1,
   "metadata": {},
   "outputs": [],
   "source": [
    "\n",
    "from datetime import datetime\n",
    "\n",
    "import pandas as pd\n",
    "import numpy as np\n",
    "\n",
    "from  plate_planner.plate import Plate, SamplePlate, QCPlate\n",
    "from  plate_planner.study import Study\n",
    "\n",
    "import plotly.graph_objects as go\n",
    "import plotly.express as px"
   ]
  },
  {
   "cell_type": "code",
   "execution_count": 2,
   "metadata": {},
   "outputs": [
    {
     "name": "stderr",
     "output_type": "stream",
     "text": [
      "[    INFO] --- Found group index in column pair_ID\n",
      "[    INFO] --- Metadata in file:\n",
      "[    INFO] --- \tUnnamed: 0\n",
      "[    INFO] --- \tpair_ID\n",
      "[    INFO] --- \tspecimen_ID\n",
      "[    INFO] --- \tobject\n",
      "[    INFO] --- \tdate_of_birth\n",
      "[    INFO] --- \tbarcode\n",
      "[    INFO] --- \torgan\n"
     ]
    }
   ],
   "source": [
    "test_study = Study(study_name=\"kalle\")\n",
    "test_study.load_sample_file(\"./data/fake_case_control_Npairs_523_Ngroups_5.csv\")"
   ]
  },
  {
   "cell_type": "code",
   "execution_count": 3,
   "metadata": {},
   "outputs": [
    {
     "data": {
      "text/html": [
       "<div>\n",
       "<style scoped>\n",
       "    .dataframe tbody tr th:only-of-type {\n",
       "        vertical-align: middle;\n",
       "    }\n",
       "\n",
       "    .dataframe tbody tr th {\n",
       "        vertical-align: top;\n",
       "    }\n",
       "\n",
       "    .dataframe thead th {\n",
       "        text-align: right;\n",
       "    }\n",
       "</style>\n",
       "<table border=\"1\" class=\"dataframe\">\n",
       "  <thead>\n",
       "    <tr style=\"text-align: right;\">\n",
       "      <th></th>\n",
       "      <th>Unnamed: 0</th>\n",
       "      <th>pair_ID</th>\n",
       "      <th>specimen_ID</th>\n",
       "      <th>object</th>\n",
       "      <th>date_of_birth</th>\n",
       "      <th>barcode</th>\n",
       "      <th>organ</th>\n",
       "    </tr>\n",
       "  </thead>\n",
       "  <tbody>\n",
       "    <tr>\n",
       "      <th>0</th>\n",
       "      <td>0</td>\n",
       "      <td>0</td>\n",
       "      <td>888</td>\n",
       "      <td>Control</td>\n",
       "      <td>1993-12-13</td>\n",
       "      <td>95388762</td>\n",
       "      <td>Parotid glands</td>\n",
       "    </tr>\n",
       "    <tr>\n",
       "      <th>1</th>\n",
       "      <td>1</td>\n",
       "      <td>0</td>\n",
       "      <td>889</td>\n",
       "      <td>Case</td>\n",
       "      <td>1993-12-13</td>\n",
       "      <td>66794295</td>\n",
       "      <td>Parotid glands</td>\n",
       "    </tr>\n",
       "    <tr>\n",
       "      <th>2</th>\n",
       "      <td>2</td>\n",
       "      <td>1</td>\n",
       "      <td>962</td>\n",
       "      <td>Control</td>\n",
       "      <td>2006-06-22</td>\n",
       "      <td>69215322</td>\n",
       "      <td>Tendons</td>\n",
       "    </tr>\n",
       "    <tr>\n",
       "      <th>3</th>\n",
       "      <td>3</td>\n",
       "      <td>1</td>\n",
       "      <td>963</td>\n",
       "      <td>Case</td>\n",
       "      <td>2006-06-22</td>\n",
       "      <td>77642424</td>\n",
       "      <td>Tendons</td>\n",
       "    </tr>\n",
       "    <tr>\n",
       "      <th>4</th>\n",
       "      <td>4</td>\n",
       "      <td>2</td>\n",
       "      <td>261</td>\n",
       "      <td>Control</td>\n",
       "      <td>1999-05-06</td>\n",
       "      <td>30225664</td>\n",
       "      <td>Parotid glands</td>\n",
       "    </tr>\n",
       "    <tr>\n",
       "      <th>...</th>\n",
       "      <td>...</td>\n",
       "      <td>...</td>\n",
       "      <td>...</td>\n",
       "      <td>...</td>\n",
       "      <td>...</td>\n",
       "      <td>...</td>\n",
       "      <td>...</td>\n",
       "    </tr>\n",
       "    <tr>\n",
       "      <th>1041</th>\n",
       "      <td>1041</td>\n",
       "      <td>520</td>\n",
       "      <td>66</td>\n",
       "      <td>Case</td>\n",
       "      <td>1991-08-29</td>\n",
       "      <td>772655</td>\n",
       "      <td>Mammary glands</td>\n",
       "    </tr>\n",
       "    <tr>\n",
       "      <th>1042</th>\n",
       "      <td>1042</td>\n",
       "      <td>521</td>\n",
       "      <td>558</td>\n",
       "      <td>Control</td>\n",
       "      <td>1993-03-21</td>\n",
       "      <td>49757491</td>\n",
       "      <td>Parotid glands</td>\n",
       "    </tr>\n",
       "    <tr>\n",
       "      <th>1043</th>\n",
       "      <td>1043</td>\n",
       "      <td>521</td>\n",
       "      <td>559</td>\n",
       "      <td>Case</td>\n",
       "      <td>1993-03-24</td>\n",
       "      <td>46022059</td>\n",
       "      <td>Parotid glands</td>\n",
       "    </tr>\n",
       "    <tr>\n",
       "      <th>1044</th>\n",
       "      <td>1044</td>\n",
       "      <td>522</td>\n",
       "      <td>710</td>\n",
       "      <td>Control</td>\n",
       "      <td>2002-03-23</td>\n",
       "      <td>73437017</td>\n",
       "      <td>Mammary glands</td>\n",
       "    </tr>\n",
       "    <tr>\n",
       "      <th>1045</th>\n",
       "      <td>1045</td>\n",
       "      <td>522</td>\n",
       "      <td>711</td>\n",
       "      <td>Case</td>\n",
       "      <td>2002-03-29</td>\n",
       "      <td>43710652</td>\n",
       "      <td>Mammary glands</td>\n",
       "    </tr>\n",
       "  </tbody>\n",
       "</table>\n",
       "<p>1046 rows × 7 columns</p>\n",
       "</div>"
      ],
      "text/plain": [
       "      Unnamed: 0  pair_ID  specimen_ID   object date_of_birth   barcode  \\\n",
       "0              0        0          888  Control    1993-12-13  95388762   \n",
       "1              1        0          889     Case    1993-12-13  66794295   \n",
       "2              2        1          962  Control    2006-06-22  69215322   \n",
       "3              3        1          963     Case    2006-06-22  77642424   \n",
       "4              4        2          261  Control    1999-05-06  30225664   \n",
       "...          ...      ...          ...      ...           ...       ...   \n",
       "1041        1041      520           66     Case    1991-08-29    772655   \n",
       "1042        1042      521          558  Control    1993-03-21  49757491   \n",
       "1043        1043      521          559     Case    1993-03-24  46022059   \n",
       "1044        1044      522          710  Control    2002-03-23  73437017   \n",
       "1045        1045      522          711     Case    2002-03-29  43710652   \n",
       "\n",
       "               organ  \n",
       "0     Parotid glands  \n",
       "1     Parotid glands  \n",
       "2            Tendons  \n",
       "3            Tendons  \n",
       "4     Parotid glands  \n",
       "...              ...  \n",
       "1041  Mammary glands  \n",
       "1042  Parotid glands  \n",
       "1043  Parotid glands  \n",
       "1044  Mammary glands  \n",
       "1045  Mammary glands  \n",
       "\n",
       "[1046 rows x 7 columns]"
      ]
     },
     "execution_count": 3,
     "metadata": {},
     "output_type": "execute_result"
    }
   ],
   "source": [
    "df = test_study.specimen_records_df\n",
    "df"
   ]
  },
  {
   "cell_type": "code",
   "execution_count": 4,
   "metadata": {},
   "outputs": [],
   "source": [
    "# Calculate age in years from 'date_of_birth'\n",
    "current_date = datetime.now()\n",
    "df['date_of_birth'] = pd.to_datetime(df['date_of_birth'])\n",
    "df['age'] = df['date_of_birth'].apply(lambda x: (current_date - x).days // 365)\n",
    "\n",
    "test_study.specimen_records_df = df\n"
   ]
  },
  {
   "cell_type": "code",
   "execution_count": 5,
   "metadata": {},
   "outputs": [
    {
     "name": "stderr",
     "output_type": "stream",
     "text": [
      "[    INFO] --- Created a 8x12 plate with 96 wells.\n"
     ]
    }
   ],
   "source": [
    "p = Plate()"
   ]
  },
  {
   "cell_type": "code",
   "execution_count": 6,
   "metadata": {},
   "outputs": [
    {
     "name": "stderr",
     "output_type": "stream",
     "text": [
      "[    INFO] --- Created a 8x12 plate with 96 wells.\n",
      "[    INFO] --- Successfully loaded config file ./data/plate_config_dynamic.toml\n",
      "[    INFO] --- Creating dynamic plate layout with QC samples.\n"
     ]
    }
   ],
   "source": [
    "qcp = QCPlate(plate_dim=96, QC_config=\"./data/plate_config_dynamic.toml\")"
   ]
  },
  {
   "cell_type": "code",
   "execution_count": 7,
   "metadata": {},
   "outputs": [
    {
     "data": {
      "text/plain": [
       "{'QC': {'start_with_QC_round': True,\n",
       "  'run_QC_after_n_specimens': 11,\n",
       "  'names': {'EC': 'EC: External_Control_(matrix)',\n",
       "   'PB': 'PB: Paper_Blank',\n",
       "   'PO': 'PO: Pooled_specimens'},\n",
       "  'patterns': {'then_alternating': [['EC', 'PB'], ['EC', 'PO']]}}}"
      ]
     },
     "execution_count": 7,
     "metadata": {},
     "output_type": "execute_result"
    }
   ],
   "source": [
    "qcp.config"
   ]
  },
  {
   "cell_type": "code",
   "execution_count": 34,
   "metadata": {},
   "outputs": [],
   "source": [
    "# patterns = {'start': ['EC', 'PB', \"PB\"]}\n",
    "# patterns[\"end\"] = ['EC', 'PB', \"PB\"]\n",
    "# patterns[\"round_1\"] = ['EC', 'PB', \"PB\"]\n",
    "patterns = {}\n",
    "patterns[\"alternating\"] = [[\"PB\",\"PB\"], [\"EC\",\"EC\"]]\n",
    "\n",
    "test = {\n",
    "    'QC': {\n",
    "        'start_with_QC_round': True,\n",
    "        'run_QC_after_n_specimens': 11,\n",
    "        'names': {'EC': 'EC: External_Control_(matrix)',\n",
    "        'PB': 'PB: Paper_Blank',\n",
    "        'PO': 'PO: Pooled_specimens'},\n",
    "        'patterns': patterns\n",
    "      }\n",
    "  }"
   ]
  },
  {
   "cell_type": "code",
   "execution_count": 35,
   "metadata": {},
   "outputs": [
    {
     "data": {
      "text/plain": [
       "{'start': ['EC', 'PB', 'PB'],\n",
       " 'end': ['EC', 'PB', 'PB'],\n",
       " 'round_1': ['EC', 'PB', 'PB']}"
      ]
     },
     "execution_count": 35,
     "metadata": {},
     "output_type": "execute_result"
    }
   ],
   "source": [
    "patterns"
   ]
  },
  {
   "cell_type": "code",
   "execution_count": 31,
   "metadata": {},
   "outputs": [
    {
     "name": "stderr",
     "output_type": "stream",
     "text": [
      "[    INFO] --- Created a 8x12 plate with 96 wells.\n",
      "[    INFO] --- Creating dynamic plate layout with QC samples.\n"
     ]
    }
   ],
   "source": [
    "qcp = QCPlate(plate_dim=96, QC_config=test)"
   ]
  },
  {
   "cell_type": "code",
   "execution_count": 32,
   "metadata": {},
   "outputs": [
    {
     "data": {
      "text/plain": [
       "[0, 1, 2, 3, 4, 5, 6, 7, 8, 9]"
      ]
     },
     "execution_count": 32,
     "metadata": {},
     "output_type": "execute_result"
    }
   ],
   "source": [
    "a = [1, 2, 3, 4, 5, 6, 7, 8, 9, 10]\n",
    "a = [aa-1 for aa in a]\n",
    "a"
   ]
  },
  {
   "cell_type": "code",
   "execution_count": 33,
   "metadata": {},
   "outputs": [
    {
     "name": "stderr",
     "output_type": "stream",
     "text": [
      "/Users/b279669/anaconda3/envs/dash-plate-planner/lib/python3.10/site-packages/plotly/express/_core.py:2065: FutureWarning:\n",
      "\n",
      "When grouping with a length-1 list-like, you will need to pass a length-1 tuple to get_group in a future version of pandas. Pass `(name,)` instead of `name` to silence this warning.\n",
      "\n"
     ]
    },
    {
     "data": {
      "application/vnd.plotly.v1+json": {
       "config": {
        "plotlyServerURL": "https://plot.ly"
       },
       "data": [
        {
         "customdata": [
          [
           "A1",
           true,
           "EC",
           "EC: External_Control_(matrix)",
           "EC1"
          ],
          [
           "A4",
           true,
           "EC",
           "EC: External_Control_(matrix)",
           "EC3"
          ],
          [
           "H10",
           true,
           "EC",
           "EC: External_Control_(matrix)",
           "EC2"
          ]
         ],
         "hovertemplate": "sample_code=%{customdata[2]}<br>column=%{x}<br>row=%{y}<br>name=%{customdata[0]}<br>QC=%{customdata[1]}<br>sample_type=%{customdata[3]}<br>sample_name=%{customdata[4]}<extra></extra>",
         "legendgroup": "EC",
         "marker": {
          "color": "#1F77B4",
          "line": {
           "width": 2
          },
          "opacity": 0.7,
          "size": 60,
          "symbol": "circle"
         },
         "mode": "markers",
         "name": "EC",
         "orientation": "v",
         "showlegend": true,
         "type": "scatter",
         "x": [
          0,
          3,
          9
         ],
         "xaxis": "x",
         "y": [
          7,
          7,
          0
         ],
         "yaxis": "y"
        },
        {
         "customdata": [
          [
           "A2",
           true,
           "PB",
           "PB: Paper_Blank",
           "PB1"
          ],
          [
           "A3",
           true,
           "PB",
           "PB: Paper_Blank",
           "PB2"
          ],
          [
           "A5",
           true,
           "PB",
           "PB: Paper_Blank",
           "PB5"
          ],
          [
           "A6",
           true,
           "PB",
           "PB: Paper_Blank",
           "PB6"
          ],
          [
           "H11",
           true,
           "PB",
           "PB: Paper_Blank",
           "PB3"
          ],
          [
           "H12",
           true,
           "PB",
           "PB: Paper_Blank",
           "PB4"
          ]
         ],
         "hovertemplate": "sample_code=%{customdata[2]}<br>column=%{x}<br>row=%{y}<br>name=%{customdata[0]}<br>QC=%{customdata[1]}<br>sample_type=%{customdata[3]}<br>sample_name=%{customdata[4]}<extra></extra>",
         "legendgroup": "PB",
         "marker": {
          "color": "#FF7F0E",
          "line": {
           "width": 2
          },
          "opacity": 0.7,
          "size": 60,
          "symbol": "circle"
         },
         "mode": "markers",
         "name": "PB",
         "orientation": "v",
         "showlegend": true,
         "type": "scatter",
         "x": [
          1,
          2,
          4,
          5,
          10,
          11
         ],
         "xaxis": "x",
         "y": [
          7,
          7,
          7,
          7,
          0,
          0
         ],
         "yaxis": "y"
        },
        {
         "customdata": [
          [
           "A7",
           false,
           "S",
           "Specimen",
           "S1"
          ],
          [
           "A8",
           false,
           "S",
           "Specimen",
           "S2"
          ],
          [
           "A9",
           false,
           "S",
           "Specimen",
           "S3"
          ],
          [
           "A10",
           false,
           "S",
           "Specimen",
           "S4"
          ],
          [
           "A11",
           false,
           "S",
           "Specimen",
           "S5"
          ],
          [
           "A12",
           false,
           "S",
           "Specimen",
           "S6"
          ],
          [
           "B1",
           false,
           "S",
           "Specimen",
           "S7"
          ],
          [
           "B2",
           false,
           "S",
           "Specimen",
           "S8"
          ],
          [
           "B3",
           false,
           "S",
           "Specimen",
           "S9"
          ],
          [
           "B4",
           false,
           "S",
           "Specimen",
           "S10"
          ],
          [
           "B5",
           false,
           "S",
           "Specimen",
           "S11"
          ],
          [
           "B6",
           false,
           "S",
           "Specimen",
           "S1"
          ],
          [
           "B7",
           false,
           "S",
           "Specimen",
           "S2"
          ],
          [
           "B8",
           false,
           "S",
           "Specimen",
           "S3"
          ],
          [
           "B9",
           false,
           "S",
           "Specimen",
           "S4"
          ],
          [
           "B10",
           false,
           "S",
           "Specimen",
           "S5"
          ],
          [
           "B11",
           false,
           "S",
           "Specimen",
           "S6"
          ],
          [
           "B12",
           false,
           "S",
           "Specimen",
           "S7"
          ],
          [
           "C1",
           false,
           "S",
           "Specimen",
           "S8"
          ],
          [
           "C2",
           false,
           "S",
           "Specimen",
           "S9"
          ],
          [
           "C3",
           false,
           "S",
           "Specimen",
           "S10"
          ],
          [
           "C4",
           false,
           "S",
           "Specimen",
           "S11"
          ],
          [
           "C5",
           false,
           "S",
           "Specimen",
           "S1"
          ],
          [
           "C6",
           false,
           "S",
           "Specimen",
           "S2"
          ],
          [
           "C7",
           false,
           "S",
           "Specimen",
           "S3"
          ],
          [
           "C8",
           false,
           "S",
           "Specimen",
           "S4"
          ],
          [
           "C9",
           false,
           "S",
           "Specimen",
           "S5"
          ],
          [
           "C10",
           false,
           "S",
           "Specimen",
           "S6"
          ],
          [
           "C11",
           false,
           "S",
           "Specimen",
           "S7"
          ],
          [
           "C12",
           false,
           "S",
           "Specimen",
           "S8"
          ],
          [
           "D1",
           false,
           "S",
           "Specimen",
           "S9"
          ],
          [
           "D2",
           false,
           "S",
           "Specimen",
           "S10"
          ],
          [
           "D3",
           false,
           "S",
           "Specimen",
           "S11"
          ],
          [
           "D4",
           false,
           "S",
           "Specimen",
           "S1"
          ],
          [
           "D5",
           false,
           "S",
           "Specimen",
           "S2"
          ],
          [
           "D6",
           false,
           "S",
           "Specimen",
           "S3"
          ],
          [
           "D7",
           false,
           "S",
           "Specimen",
           "S4"
          ],
          [
           "D8",
           false,
           "S",
           "Specimen",
           "S5"
          ],
          [
           "D9",
           false,
           "S",
           "Specimen",
           "S6"
          ],
          [
           "D10",
           false,
           "S",
           "Specimen",
           "S7"
          ],
          [
           "D11",
           false,
           "S",
           "Specimen",
           "S8"
          ],
          [
           "D12",
           false,
           "S",
           "Specimen",
           "S9"
          ],
          [
           "E1",
           false,
           "S",
           "Specimen",
           "S10"
          ],
          [
           "E2",
           false,
           "S",
           "Specimen",
           "S11"
          ],
          [
           "E3",
           false,
           "S",
           "Specimen",
           "S1"
          ],
          [
           "E4",
           false,
           "S",
           "Specimen",
           "S2"
          ],
          [
           "E5",
           false,
           "S",
           "Specimen",
           "S3"
          ],
          [
           "E6",
           false,
           "S",
           "Specimen",
           "S4"
          ],
          [
           "E7",
           false,
           "S",
           "Specimen",
           "S5"
          ],
          [
           "E8",
           false,
           "S",
           "Specimen",
           "S6"
          ],
          [
           "E9",
           false,
           "S",
           "Specimen",
           "S7"
          ],
          [
           "E10",
           false,
           "S",
           "Specimen",
           "S8"
          ],
          [
           "E11",
           false,
           "S",
           "Specimen",
           "S9"
          ],
          [
           "E12",
           false,
           "S",
           "Specimen",
           "S10"
          ],
          [
           "F1",
           false,
           "S",
           "Specimen",
           "S11"
          ],
          [
           "F2",
           false,
           "S",
           "Specimen",
           "S1"
          ],
          [
           "F3",
           false,
           "S",
           "Specimen",
           "S2"
          ],
          [
           "F4",
           false,
           "S",
           "Specimen",
           "S3"
          ],
          [
           "F5",
           false,
           "S",
           "Specimen",
           "S4"
          ],
          [
           "F6",
           false,
           "S",
           "Specimen",
           "S5"
          ],
          [
           "F7",
           false,
           "S",
           "Specimen",
           "S6"
          ],
          [
           "F8",
           false,
           "S",
           "Specimen",
           "S7"
          ],
          [
           "F9",
           false,
           "S",
           "Specimen",
           "S8"
          ],
          [
           "F10",
           false,
           "S",
           "Specimen",
           "S9"
          ],
          [
           "F11",
           false,
           "S",
           "Specimen",
           "S10"
          ],
          [
           "F12",
           false,
           "S",
           "Specimen",
           "S11"
          ],
          [
           "G1",
           false,
           "S",
           "Specimen",
           "S1"
          ],
          [
           "G2",
           false,
           "S",
           "Specimen",
           "S2"
          ],
          [
           "G3",
           false,
           "S",
           "Specimen",
           "S3"
          ],
          [
           "G4",
           false,
           "S",
           "Specimen",
           "S4"
          ],
          [
           "G5",
           false,
           "S",
           "Specimen",
           "S5"
          ],
          [
           "G6",
           false,
           "S",
           "Specimen",
           "S6"
          ],
          [
           "G7",
           false,
           "S",
           "Specimen",
           "S7"
          ],
          [
           "G8",
           false,
           "S",
           "Specimen",
           "S8"
          ],
          [
           "G9",
           false,
           "S",
           "Specimen",
           "S9"
          ],
          [
           "G10",
           false,
           "S",
           "Specimen",
           "S10"
          ],
          [
           "G11",
           false,
           "S",
           "Specimen",
           "S11"
          ],
          [
           "G12",
           false,
           "S",
           "Specimen",
           "S1"
          ],
          [
           "H1",
           false,
           "S",
           "Specimen",
           "S2"
          ],
          [
           "H2",
           false,
           "S",
           "Specimen",
           "S3"
          ],
          [
           "H3",
           false,
           "S",
           "Specimen",
           "S4"
          ],
          [
           "H4",
           false,
           "S",
           "Specimen",
           "S5"
          ],
          [
           "H5",
           false,
           "S",
           "Specimen",
           "S6"
          ],
          [
           "H6",
           false,
           "S",
           "Specimen",
           "S7"
          ],
          [
           "H7",
           false,
           "S",
           "Specimen",
           "S8"
          ],
          [
           "H8",
           false,
           "S",
           "Specimen",
           "S9"
          ],
          [
           "H9",
           false,
           "S",
           "Specimen",
           "S10"
          ]
         ],
         "hovertemplate": "sample_code=%{customdata[2]}<br>column=%{x}<br>row=%{y}<br>name=%{customdata[0]}<br>QC=%{customdata[1]}<br>sample_type=%{customdata[3]}<br>sample_name=%{customdata[4]}<extra></extra>",
         "legendgroup": "S",
         "marker": {
          "color": "#2CA02C",
          "line": {
           "width": 2
          },
          "opacity": 0.7,
          "size": 60,
          "symbol": "circle"
         },
         "mode": "markers",
         "name": "S",
         "orientation": "v",
         "showlegend": true,
         "type": "scatter",
         "x": [
          6,
          7,
          8,
          9,
          10,
          11,
          0,
          1,
          2,
          3,
          4,
          5,
          6,
          7,
          8,
          9,
          10,
          11,
          0,
          1,
          2,
          3,
          4,
          5,
          6,
          7,
          8,
          9,
          10,
          11,
          0,
          1,
          2,
          3,
          4,
          5,
          6,
          7,
          8,
          9,
          10,
          11,
          0,
          1,
          2,
          3,
          4,
          5,
          6,
          7,
          8,
          9,
          10,
          11,
          0,
          1,
          2,
          3,
          4,
          5,
          6,
          7,
          8,
          9,
          10,
          11,
          0,
          1,
          2,
          3,
          4,
          5,
          6,
          7,
          8,
          9,
          10,
          11,
          0,
          1,
          2,
          3,
          4,
          5,
          6,
          7,
          8
         ],
         "xaxis": "x",
         "y": [
          7,
          7,
          7,
          7,
          7,
          7,
          6,
          6,
          6,
          6,
          6,
          6,
          6,
          6,
          6,
          6,
          6,
          6,
          5,
          5,
          5,
          5,
          5,
          5,
          5,
          5,
          5,
          5,
          5,
          5,
          4,
          4,
          4,
          4,
          4,
          4,
          4,
          4,
          4,
          4,
          4,
          4,
          3,
          3,
          3,
          3,
          3,
          3,
          3,
          3,
          3,
          3,
          3,
          3,
          2,
          2,
          2,
          2,
          2,
          2,
          2,
          2,
          2,
          2,
          2,
          2,
          1,
          1,
          1,
          1,
          1,
          1,
          1,
          1,
          1,
          1,
          1,
          1,
          0,
          0,
          0,
          0,
          0,
          0,
          0,
          0,
          0
         ],
         "yaxis": "y"
        }
       ],
       "layout": {
        "annotations": [
         {
          "bgcolor": "rgba(255, 255, 255, 0.5)",
          "bordercolor": "rgba(255, 255, 255, 0.5)",
          "borderpad": 2,
          "showarrow": false,
          "text": "A1",
          "textangle": 0,
          "x": 0,
          "y": 7
         },
         {
          "bgcolor": "rgba(255, 255, 255, 0.5)",
          "bordercolor": "rgba(255, 255, 255, 0.5)",
          "borderpad": 2,
          "showarrow": false,
          "text": "A2",
          "textangle": 0,
          "x": 1,
          "y": 7
         },
         {
          "bgcolor": "rgba(255, 255, 255, 0.5)",
          "bordercolor": "rgba(255, 255, 255, 0.5)",
          "borderpad": 2,
          "showarrow": false,
          "text": "A3",
          "textangle": 0,
          "x": 2,
          "y": 7
         },
         {
          "bgcolor": "rgba(255, 255, 255, 0.5)",
          "bordercolor": "rgba(255, 255, 255, 0.5)",
          "borderpad": 2,
          "showarrow": false,
          "text": "A4",
          "textangle": 0,
          "x": 3,
          "y": 7
         },
         {
          "bgcolor": "rgba(255, 255, 255, 0.5)",
          "bordercolor": "rgba(255, 255, 255, 0.5)",
          "borderpad": 2,
          "showarrow": false,
          "text": "A5",
          "textangle": 0,
          "x": 4,
          "y": 7
         },
         {
          "bgcolor": "rgba(255, 255, 255, 0.5)",
          "bordercolor": "rgba(255, 255, 255, 0.5)",
          "borderpad": 2,
          "showarrow": false,
          "text": "A6",
          "textangle": 0,
          "x": 5,
          "y": 7
         },
         {
          "bgcolor": "rgba(255, 255, 255, 0.5)",
          "bordercolor": "rgba(255, 255, 255, 0.5)",
          "borderpad": 2,
          "showarrow": false,
          "text": "A7",
          "textangle": 0,
          "x": 6,
          "y": 7
         },
         {
          "bgcolor": "rgba(255, 255, 255, 0.5)",
          "bordercolor": "rgba(255, 255, 255, 0.5)",
          "borderpad": 2,
          "showarrow": false,
          "text": "A8",
          "textangle": 0,
          "x": 7,
          "y": 7
         },
         {
          "bgcolor": "rgba(255, 255, 255, 0.5)",
          "bordercolor": "rgba(255, 255, 255, 0.5)",
          "borderpad": 2,
          "showarrow": false,
          "text": "A9",
          "textangle": 0,
          "x": 8,
          "y": 7
         },
         {
          "bgcolor": "rgba(255, 255, 255, 0.5)",
          "bordercolor": "rgba(255, 255, 255, 0.5)",
          "borderpad": 2,
          "showarrow": false,
          "text": "A10",
          "textangle": 0,
          "x": 9,
          "y": 7
         },
         {
          "bgcolor": "rgba(255, 255, 255, 0.5)",
          "bordercolor": "rgba(255, 255, 255, 0.5)",
          "borderpad": 2,
          "showarrow": false,
          "text": "A11",
          "textangle": 0,
          "x": 10,
          "y": 7
         },
         {
          "bgcolor": "rgba(255, 255, 255, 0.5)",
          "bordercolor": "rgba(255, 255, 255, 0.5)",
          "borderpad": 2,
          "showarrow": false,
          "text": "A12",
          "textangle": 0,
          "x": 11,
          "y": 7
         },
         {
          "bgcolor": "rgba(255, 255, 255, 0.5)",
          "bordercolor": "rgba(255, 255, 255, 0.5)",
          "borderpad": 2,
          "showarrow": false,
          "text": "B1",
          "textangle": 0,
          "x": 0,
          "y": 6
         },
         {
          "bgcolor": "rgba(255, 255, 255, 0.5)",
          "bordercolor": "rgba(255, 255, 255, 0.5)",
          "borderpad": 2,
          "showarrow": false,
          "text": "B2",
          "textangle": 0,
          "x": 1,
          "y": 6
         },
         {
          "bgcolor": "rgba(255, 255, 255, 0.5)",
          "bordercolor": "rgba(255, 255, 255, 0.5)",
          "borderpad": 2,
          "showarrow": false,
          "text": "B3",
          "textangle": 0,
          "x": 2,
          "y": 6
         },
         {
          "bgcolor": "rgba(255, 255, 255, 0.5)",
          "bordercolor": "rgba(255, 255, 255, 0.5)",
          "borderpad": 2,
          "showarrow": false,
          "text": "B4",
          "textangle": 0,
          "x": 3,
          "y": 6
         },
         {
          "bgcolor": "rgba(255, 255, 255, 0.5)",
          "bordercolor": "rgba(255, 255, 255, 0.5)",
          "borderpad": 2,
          "showarrow": false,
          "text": "B5",
          "textangle": 0,
          "x": 4,
          "y": 6
         },
         {
          "bgcolor": "rgba(255, 255, 255, 0.5)",
          "bordercolor": "rgba(255, 255, 255, 0.5)",
          "borderpad": 2,
          "showarrow": false,
          "text": "B6",
          "textangle": 0,
          "x": 5,
          "y": 6
         },
         {
          "bgcolor": "rgba(255, 255, 255, 0.5)",
          "bordercolor": "rgba(255, 255, 255, 0.5)",
          "borderpad": 2,
          "showarrow": false,
          "text": "B7",
          "textangle": 0,
          "x": 6,
          "y": 6
         },
         {
          "bgcolor": "rgba(255, 255, 255, 0.5)",
          "bordercolor": "rgba(255, 255, 255, 0.5)",
          "borderpad": 2,
          "showarrow": false,
          "text": "B8",
          "textangle": 0,
          "x": 7,
          "y": 6
         },
         {
          "bgcolor": "rgba(255, 255, 255, 0.5)",
          "bordercolor": "rgba(255, 255, 255, 0.5)",
          "borderpad": 2,
          "showarrow": false,
          "text": "B9",
          "textangle": 0,
          "x": 8,
          "y": 6
         },
         {
          "bgcolor": "rgba(255, 255, 255, 0.5)",
          "bordercolor": "rgba(255, 255, 255, 0.5)",
          "borderpad": 2,
          "showarrow": false,
          "text": "B10",
          "textangle": 0,
          "x": 9,
          "y": 6
         },
         {
          "bgcolor": "rgba(255, 255, 255, 0.5)",
          "bordercolor": "rgba(255, 255, 255, 0.5)",
          "borderpad": 2,
          "showarrow": false,
          "text": "B11",
          "textangle": 0,
          "x": 10,
          "y": 6
         },
         {
          "bgcolor": "rgba(255, 255, 255, 0.5)",
          "bordercolor": "rgba(255, 255, 255, 0.5)",
          "borderpad": 2,
          "showarrow": false,
          "text": "B12",
          "textangle": 0,
          "x": 11,
          "y": 6
         },
         {
          "bgcolor": "rgba(255, 255, 255, 0.5)",
          "bordercolor": "rgba(255, 255, 255, 0.5)",
          "borderpad": 2,
          "showarrow": false,
          "text": "C1",
          "textangle": 0,
          "x": 0,
          "y": 5
         },
         {
          "bgcolor": "rgba(255, 255, 255, 0.5)",
          "bordercolor": "rgba(255, 255, 255, 0.5)",
          "borderpad": 2,
          "showarrow": false,
          "text": "C2",
          "textangle": 0,
          "x": 1,
          "y": 5
         },
         {
          "bgcolor": "rgba(255, 255, 255, 0.5)",
          "bordercolor": "rgba(255, 255, 255, 0.5)",
          "borderpad": 2,
          "showarrow": false,
          "text": "C3",
          "textangle": 0,
          "x": 2,
          "y": 5
         },
         {
          "bgcolor": "rgba(255, 255, 255, 0.5)",
          "bordercolor": "rgba(255, 255, 255, 0.5)",
          "borderpad": 2,
          "showarrow": false,
          "text": "C4",
          "textangle": 0,
          "x": 3,
          "y": 5
         },
         {
          "bgcolor": "rgba(255, 255, 255, 0.5)",
          "bordercolor": "rgba(255, 255, 255, 0.5)",
          "borderpad": 2,
          "showarrow": false,
          "text": "C5",
          "textangle": 0,
          "x": 4,
          "y": 5
         },
         {
          "bgcolor": "rgba(255, 255, 255, 0.5)",
          "bordercolor": "rgba(255, 255, 255, 0.5)",
          "borderpad": 2,
          "showarrow": false,
          "text": "C6",
          "textangle": 0,
          "x": 5,
          "y": 5
         },
         {
          "bgcolor": "rgba(255, 255, 255, 0.5)",
          "bordercolor": "rgba(255, 255, 255, 0.5)",
          "borderpad": 2,
          "showarrow": false,
          "text": "C7",
          "textangle": 0,
          "x": 6,
          "y": 5
         },
         {
          "bgcolor": "rgba(255, 255, 255, 0.5)",
          "bordercolor": "rgba(255, 255, 255, 0.5)",
          "borderpad": 2,
          "showarrow": false,
          "text": "C8",
          "textangle": 0,
          "x": 7,
          "y": 5
         },
         {
          "bgcolor": "rgba(255, 255, 255, 0.5)",
          "bordercolor": "rgba(255, 255, 255, 0.5)",
          "borderpad": 2,
          "showarrow": false,
          "text": "C9",
          "textangle": 0,
          "x": 8,
          "y": 5
         },
         {
          "bgcolor": "rgba(255, 255, 255, 0.5)",
          "bordercolor": "rgba(255, 255, 255, 0.5)",
          "borderpad": 2,
          "showarrow": false,
          "text": "C10",
          "textangle": 0,
          "x": 9,
          "y": 5
         },
         {
          "bgcolor": "rgba(255, 255, 255, 0.5)",
          "bordercolor": "rgba(255, 255, 255, 0.5)",
          "borderpad": 2,
          "showarrow": false,
          "text": "C11",
          "textangle": 0,
          "x": 10,
          "y": 5
         },
         {
          "bgcolor": "rgba(255, 255, 255, 0.5)",
          "bordercolor": "rgba(255, 255, 255, 0.5)",
          "borderpad": 2,
          "showarrow": false,
          "text": "C12",
          "textangle": 0,
          "x": 11,
          "y": 5
         },
         {
          "bgcolor": "rgba(255, 255, 255, 0.5)",
          "bordercolor": "rgba(255, 255, 255, 0.5)",
          "borderpad": 2,
          "showarrow": false,
          "text": "D1",
          "textangle": 0,
          "x": 0,
          "y": 4
         },
         {
          "bgcolor": "rgba(255, 255, 255, 0.5)",
          "bordercolor": "rgba(255, 255, 255, 0.5)",
          "borderpad": 2,
          "showarrow": false,
          "text": "D2",
          "textangle": 0,
          "x": 1,
          "y": 4
         },
         {
          "bgcolor": "rgba(255, 255, 255, 0.5)",
          "bordercolor": "rgba(255, 255, 255, 0.5)",
          "borderpad": 2,
          "showarrow": false,
          "text": "D3",
          "textangle": 0,
          "x": 2,
          "y": 4
         },
         {
          "bgcolor": "rgba(255, 255, 255, 0.5)",
          "bordercolor": "rgba(255, 255, 255, 0.5)",
          "borderpad": 2,
          "showarrow": false,
          "text": "D4",
          "textangle": 0,
          "x": 3,
          "y": 4
         },
         {
          "bgcolor": "rgba(255, 255, 255, 0.5)",
          "bordercolor": "rgba(255, 255, 255, 0.5)",
          "borderpad": 2,
          "showarrow": false,
          "text": "D5",
          "textangle": 0,
          "x": 4,
          "y": 4
         },
         {
          "bgcolor": "rgba(255, 255, 255, 0.5)",
          "bordercolor": "rgba(255, 255, 255, 0.5)",
          "borderpad": 2,
          "showarrow": false,
          "text": "D6",
          "textangle": 0,
          "x": 5,
          "y": 4
         },
         {
          "bgcolor": "rgba(255, 255, 255, 0.5)",
          "bordercolor": "rgba(255, 255, 255, 0.5)",
          "borderpad": 2,
          "showarrow": false,
          "text": "D7",
          "textangle": 0,
          "x": 6,
          "y": 4
         },
         {
          "bgcolor": "rgba(255, 255, 255, 0.5)",
          "bordercolor": "rgba(255, 255, 255, 0.5)",
          "borderpad": 2,
          "showarrow": false,
          "text": "D8",
          "textangle": 0,
          "x": 7,
          "y": 4
         },
         {
          "bgcolor": "rgba(255, 255, 255, 0.5)",
          "bordercolor": "rgba(255, 255, 255, 0.5)",
          "borderpad": 2,
          "showarrow": false,
          "text": "D9",
          "textangle": 0,
          "x": 8,
          "y": 4
         },
         {
          "bgcolor": "rgba(255, 255, 255, 0.5)",
          "bordercolor": "rgba(255, 255, 255, 0.5)",
          "borderpad": 2,
          "showarrow": false,
          "text": "D10",
          "textangle": 0,
          "x": 9,
          "y": 4
         },
         {
          "bgcolor": "rgba(255, 255, 255, 0.5)",
          "bordercolor": "rgba(255, 255, 255, 0.5)",
          "borderpad": 2,
          "showarrow": false,
          "text": "D11",
          "textangle": 0,
          "x": 10,
          "y": 4
         },
         {
          "bgcolor": "rgba(255, 255, 255, 0.5)",
          "bordercolor": "rgba(255, 255, 255, 0.5)",
          "borderpad": 2,
          "showarrow": false,
          "text": "D12",
          "textangle": 0,
          "x": 11,
          "y": 4
         },
         {
          "bgcolor": "rgba(255, 255, 255, 0.5)",
          "bordercolor": "rgba(255, 255, 255, 0.5)",
          "borderpad": 2,
          "showarrow": false,
          "text": "E1",
          "textangle": 0,
          "x": 0,
          "y": 3
         },
         {
          "bgcolor": "rgba(255, 255, 255, 0.5)",
          "bordercolor": "rgba(255, 255, 255, 0.5)",
          "borderpad": 2,
          "showarrow": false,
          "text": "E2",
          "textangle": 0,
          "x": 1,
          "y": 3
         },
         {
          "bgcolor": "rgba(255, 255, 255, 0.5)",
          "bordercolor": "rgba(255, 255, 255, 0.5)",
          "borderpad": 2,
          "showarrow": false,
          "text": "E3",
          "textangle": 0,
          "x": 2,
          "y": 3
         },
         {
          "bgcolor": "rgba(255, 255, 255, 0.5)",
          "bordercolor": "rgba(255, 255, 255, 0.5)",
          "borderpad": 2,
          "showarrow": false,
          "text": "E4",
          "textangle": 0,
          "x": 3,
          "y": 3
         },
         {
          "bgcolor": "rgba(255, 255, 255, 0.5)",
          "bordercolor": "rgba(255, 255, 255, 0.5)",
          "borderpad": 2,
          "showarrow": false,
          "text": "E5",
          "textangle": 0,
          "x": 4,
          "y": 3
         },
         {
          "bgcolor": "rgba(255, 255, 255, 0.5)",
          "bordercolor": "rgba(255, 255, 255, 0.5)",
          "borderpad": 2,
          "showarrow": false,
          "text": "E6",
          "textangle": 0,
          "x": 5,
          "y": 3
         },
         {
          "bgcolor": "rgba(255, 255, 255, 0.5)",
          "bordercolor": "rgba(255, 255, 255, 0.5)",
          "borderpad": 2,
          "showarrow": false,
          "text": "E7",
          "textangle": 0,
          "x": 6,
          "y": 3
         },
         {
          "bgcolor": "rgba(255, 255, 255, 0.5)",
          "bordercolor": "rgba(255, 255, 255, 0.5)",
          "borderpad": 2,
          "showarrow": false,
          "text": "E8",
          "textangle": 0,
          "x": 7,
          "y": 3
         },
         {
          "bgcolor": "rgba(255, 255, 255, 0.5)",
          "bordercolor": "rgba(255, 255, 255, 0.5)",
          "borderpad": 2,
          "showarrow": false,
          "text": "E9",
          "textangle": 0,
          "x": 8,
          "y": 3
         },
         {
          "bgcolor": "rgba(255, 255, 255, 0.5)",
          "bordercolor": "rgba(255, 255, 255, 0.5)",
          "borderpad": 2,
          "showarrow": false,
          "text": "E10",
          "textangle": 0,
          "x": 9,
          "y": 3
         },
         {
          "bgcolor": "rgba(255, 255, 255, 0.5)",
          "bordercolor": "rgba(255, 255, 255, 0.5)",
          "borderpad": 2,
          "showarrow": false,
          "text": "E11",
          "textangle": 0,
          "x": 10,
          "y": 3
         },
         {
          "bgcolor": "rgba(255, 255, 255, 0.5)",
          "bordercolor": "rgba(255, 255, 255, 0.5)",
          "borderpad": 2,
          "showarrow": false,
          "text": "E12",
          "textangle": 0,
          "x": 11,
          "y": 3
         },
         {
          "bgcolor": "rgba(255, 255, 255, 0.5)",
          "bordercolor": "rgba(255, 255, 255, 0.5)",
          "borderpad": 2,
          "showarrow": false,
          "text": "F1",
          "textangle": 0,
          "x": 0,
          "y": 2
         },
         {
          "bgcolor": "rgba(255, 255, 255, 0.5)",
          "bordercolor": "rgba(255, 255, 255, 0.5)",
          "borderpad": 2,
          "showarrow": false,
          "text": "F2",
          "textangle": 0,
          "x": 1,
          "y": 2
         },
         {
          "bgcolor": "rgba(255, 255, 255, 0.5)",
          "bordercolor": "rgba(255, 255, 255, 0.5)",
          "borderpad": 2,
          "showarrow": false,
          "text": "F3",
          "textangle": 0,
          "x": 2,
          "y": 2
         },
         {
          "bgcolor": "rgba(255, 255, 255, 0.5)",
          "bordercolor": "rgba(255, 255, 255, 0.5)",
          "borderpad": 2,
          "showarrow": false,
          "text": "F4",
          "textangle": 0,
          "x": 3,
          "y": 2
         },
         {
          "bgcolor": "rgba(255, 255, 255, 0.5)",
          "bordercolor": "rgba(255, 255, 255, 0.5)",
          "borderpad": 2,
          "showarrow": false,
          "text": "F5",
          "textangle": 0,
          "x": 4,
          "y": 2
         },
         {
          "bgcolor": "rgba(255, 255, 255, 0.5)",
          "bordercolor": "rgba(255, 255, 255, 0.5)",
          "borderpad": 2,
          "showarrow": false,
          "text": "F6",
          "textangle": 0,
          "x": 5,
          "y": 2
         },
         {
          "bgcolor": "rgba(255, 255, 255, 0.5)",
          "bordercolor": "rgba(255, 255, 255, 0.5)",
          "borderpad": 2,
          "showarrow": false,
          "text": "F7",
          "textangle": 0,
          "x": 6,
          "y": 2
         },
         {
          "bgcolor": "rgba(255, 255, 255, 0.5)",
          "bordercolor": "rgba(255, 255, 255, 0.5)",
          "borderpad": 2,
          "showarrow": false,
          "text": "F8",
          "textangle": 0,
          "x": 7,
          "y": 2
         },
         {
          "bgcolor": "rgba(255, 255, 255, 0.5)",
          "bordercolor": "rgba(255, 255, 255, 0.5)",
          "borderpad": 2,
          "showarrow": false,
          "text": "F9",
          "textangle": 0,
          "x": 8,
          "y": 2
         },
         {
          "bgcolor": "rgba(255, 255, 255, 0.5)",
          "bordercolor": "rgba(255, 255, 255, 0.5)",
          "borderpad": 2,
          "showarrow": false,
          "text": "F10",
          "textangle": 0,
          "x": 9,
          "y": 2
         },
         {
          "bgcolor": "rgba(255, 255, 255, 0.5)",
          "bordercolor": "rgba(255, 255, 255, 0.5)",
          "borderpad": 2,
          "showarrow": false,
          "text": "F11",
          "textangle": 0,
          "x": 10,
          "y": 2
         },
         {
          "bgcolor": "rgba(255, 255, 255, 0.5)",
          "bordercolor": "rgba(255, 255, 255, 0.5)",
          "borderpad": 2,
          "showarrow": false,
          "text": "F12",
          "textangle": 0,
          "x": 11,
          "y": 2
         },
         {
          "bgcolor": "rgba(255, 255, 255, 0.5)",
          "bordercolor": "rgba(255, 255, 255, 0.5)",
          "borderpad": 2,
          "showarrow": false,
          "text": "G1",
          "textangle": 0,
          "x": 0,
          "y": 1
         },
         {
          "bgcolor": "rgba(255, 255, 255, 0.5)",
          "bordercolor": "rgba(255, 255, 255, 0.5)",
          "borderpad": 2,
          "showarrow": false,
          "text": "G2",
          "textangle": 0,
          "x": 1,
          "y": 1
         },
         {
          "bgcolor": "rgba(255, 255, 255, 0.5)",
          "bordercolor": "rgba(255, 255, 255, 0.5)",
          "borderpad": 2,
          "showarrow": false,
          "text": "G3",
          "textangle": 0,
          "x": 2,
          "y": 1
         },
         {
          "bgcolor": "rgba(255, 255, 255, 0.5)",
          "bordercolor": "rgba(255, 255, 255, 0.5)",
          "borderpad": 2,
          "showarrow": false,
          "text": "G4",
          "textangle": 0,
          "x": 3,
          "y": 1
         },
         {
          "bgcolor": "rgba(255, 255, 255, 0.5)",
          "bordercolor": "rgba(255, 255, 255, 0.5)",
          "borderpad": 2,
          "showarrow": false,
          "text": "G5",
          "textangle": 0,
          "x": 4,
          "y": 1
         },
         {
          "bgcolor": "rgba(255, 255, 255, 0.5)",
          "bordercolor": "rgba(255, 255, 255, 0.5)",
          "borderpad": 2,
          "showarrow": false,
          "text": "G6",
          "textangle": 0,
          "x": 5,
          "y": 1
         },
         {
          "bgcolor": "rgba(255, 255, 255, 0.5)",
          "bordercolor": "rgba(255, 255, 255, 0.5)",
          "borderpad": 2,
          "showarrow": false,
          "text": "G7",
          "textangle": 0,
          "x": 6,
          "y": 1
         },
         {
          "bgcolor": "rgba(255, 255, 255, 0.5)",
          "bordercolor": "rgba(255, 255, 255, 0.5)",
          "borderpad": 2,
          "showarrow": false,
          "text": "G8",
          "textangle": 0,
          "x": 7,
          "y": 1
         },
         {
          "bgcolor": "rgba(255, 255, 255, 0.5)",
          "bordercolor": "rgba(255, 255, 255, 0.5)",
          "borderpad": 2,
          "showarrow": false,
          "text": "G9",
          "textangle": 0,
          "x": 8,
          "y": 1
         },
         {
          "bgcolor": "rgba(255, 255, 255, 0.5)",
          "bordercolor": "rgba(255, 255, 255, 0.5)",
          "borderpad": 2,
          "showarrow": false,
          "text": "G10",
          "textangle": 0,
          "x": 9,
          "y": 1
         },
         {
          "bgcolor": "rgba(255, 255, 255, 0.5)",
          "bordercolor": "rgba(255, 255, 255, 0.5)",
          "borderpad": 2,
          "showarrow": false,
          "text": "G11",
          "textangle": 0,
          "x": 10,
          "y": 1
         },
         {
          "bgcolor": "rgba(255, 255, 255, 0.5)",
          "bordercolor": "rgba(255, 255, 255, 0.5)",
          "borderpad": 2,
          "showarrow": false,
          "text": "G12",
          "textangle": 0,
          "x": 11,
          "y": 1
         },
         {
          "bgcolor": "rgba(255, 255, 255, 0.5)",
          "bordercolor": "rgba(255, 255, 255, 0.5)",
          "borderpad": 2,
          "showarrow": false,
          "text": "H1",
          "textangle": 0,
          "x": 0,
          "y": 0
         },
         {
          "bgcolor": "rgba(255, 255, 255, 0.5)",
          "bordercolor": "rgba(255, 255, 255, 0.5)",
          "borderpad": 2,
          "showarrow": false,
          "text": "H2",
          "textangle": 0,
          "x": 1,
          "y": 0
         },
         {
          "bgcolor": "rgba(255, 255, 255, 0.5)",
          "bordercolor": "rgba(255, 255, 255, 0.5)",
          "borderpad": 2,
          "showarrow": false,
          "text": "H3",
          "textangle": 0,
          "x": 2,
          "y": 0
         },
         {
          "bgcolor": "rgba(255, 255, 255, 0.5)",
          "bordercolor": "rgba(255, 255, 255, 0.5)",
          "borderpad": 2,
          "showarrow": false,
          "text": "H4",
          "textangle": 0,
          "x": 3,
          "y": 0
         },
         {
          "bgcolor": "rgba(255, 255, 255, 0.5)",
          "bordercolor": "rgba(255, 255, 255, 0.5)",
          "borderpad": 2,
          "showarrow": false,
          "text": "H5",
          "textangle": 0,
          "x": 4,
          "y": 0
         },
         {
          "bgcolor": "rgba(255, 255, 255, 0.5)",
          "bordercolor": "rgba(255, 255, 255, 0.5)",
          "borderpad": 2,
          "showarrow": false,
          "text": "H6",
          "textangle": 0,
          "x": 5,
          "y": 0
         },
         {
          "bgcolor": "rgba(255, 255, 255, 0.5)",
          "bordercolor": "rgba(255, 255, 255, 0.5)",
          "borderpad": 2,
          "showarrow": false,
          "text": "H7",
          "textangle": 0,
          "x": 6,
          "y": 0
         },
         {
          "bgcolor": "rgba(255, 255, 255, 0.5)",
          "bordercolor": "rgba(255, 255, 255, 0.5)",
          "borderpad": 2,
          "showarrow": false,
          "text": "H8",
          "textangle": 0,
          "x": 7,
          "y": 0
         },
         {
          "bgcolor": "rgba(255, 255, 255, 0.5)",
          "bordercolor": "rgba(255, 255, 255, 0.5)",
          "borderpad": 2,
          "showarrow": false,
          "text": "H9",
          "textangle": 0,
          "x": 8,
          "y": 0
         },
         {
          "bgcolor": "rgba(255, 255, 255, 0.5)",
          "bordercolor": "rgba(255, 255, 255, 0.5)",
          "borderpad": 2,
          "showarrow": false,
          "text": "H10",
          "textangle": 0,
          "x": 9,
          "y": 0
         },
         {
          "bgcolor": "rgba(255, 255, 255, 0.5)",
          "bordercolor": "rgba(255, 255, 255, 0.5)",
          "borderpad": 2,
          "showarrow": false,
          "text": "H11",
          "textangle": 0,
          "x": 10,
          "y": 0
         },
         {
          "bgcolor": "rgba(255, 255, 255, 0.5)",
          "bordercolor": "rgba(255, 255, 255, 0.5)",
          "borderpad": 2,
          "showarrow": false,
          "text": "H12",
          "textangle": 0,
          "x": 11,
          "y": 0
         }
        ],
        "height": 700,
        "legend": {
         "orientation": "h",
         "title": {
          "text": "sample_code"
         },
         "tracegroupgap": 0,
         "x": 0.5,
         "xanchor": "center",
         "y": -0.1,
         "yanchor": "bottom"
        },
        "margin": {
         "b": 50,
         "l": 50,
         "pad": 4,
         "r": 50,
         "t": 50
        },
        "template": {
         "data": {
          "bar": [
           {
            "error_x": {
             "color": "#2a3f5f"
            },
            "error_y": {
             "color": "#2a3f5f"
            },
            "marker": {
             "line": {
              "color": "#E5ECF6",
              "width": 0.5
             },
             "pattern": {
              "fillmode": "overlay",
              "size": 10,
              "solidity": 0.2
             }
            },
            "type": "bar"
           }
          ],
          "barpolar": [
           {
            "marker": {
             "line": {
              "color": "#E5ECF6",
              "width": 0.5
             },
             "pattern": {
              "fillmode": "overlay",
              "size": 10,
              "solidity": 0.2
             }
            },
            "type": "barpolar"
           }
          ],
          "carpet": [
           {
            "aaxis": {
             "endlinecolor": "#2a3f5f",
             "gridcolor": "white",
             "linecolor": "white",
             "minorgridcolor": "white",
             "startlinecolor": "#2a3f5f"
            },
            "baxis": {
             "endlinecolor": "#2a3f5f",
             "gridcolor": "white",
             "linecolor": "white",
             "minorgridcolor": "white",
             "startlinecolor": "#2a3f5f"
            },
            "type": "carpet"
           }
          ],
          "choropleth": [
           {
            "colorbar": {
             "outlinewidth": 0,
             "ticks": ""
            },
            "type": "choropleth"
           }
          ],
          "contour": [
           {
            "colorbar": {
             "outlinewidth": 0,
             "ticks": ""
            },
            "colorscale": [
             [
              0,
              "#0d0887"
             ],
             [
              0.1111111111111111,
              "#46039f"
             ],
             [
              0.2222222222222222,
              "#7201a8"
             ],
             [
              0.3333333333333333,
              "#9c179e"
             ],
             [
              0.4444444444444444,
              "#bd3786"
             ],
             [
              0.5555555555555556,
              "#d8576b"
             ],
             [
              0.6666666666666666,
              "#ed7953"
             ],
             [
              0.7777777777777778,
              "#fb9f3a"
             ],
             [
              0.8888888888888888,
              "#fdca26"
             ],
             [
              1,
              "#f0f921"
             ]
            ],
            "type": "contour"
           }
          ],
          "contourcarpet": [
           {
            "colorbar": {
             "outlinewidth": 0,
             "ticks": ""
            },
            "type": "contourcarpet"
           }
          ],
          "heatmap": [
           {
            "colorbar": {
             "outlinewidth": 0,
             "ticks": ""
            },
            "colorscale": [
             [
              0,
              "#0d0887"
             ],
             [
              0.1111111111111111,
              "#46039f"
             ],
             [
              0.2222222222222222,
              "#7201a8"
             ],
             [
              0.3333333333333333,
              "#9c179e"
             ],
             [
              0.4444444444444444,
              "#bd3786"
             ],
             [
              0.5555555555555556,
              "#d8576b"
             ],
             [
              0.6666666666666666,
              "#ed7953"
             ],
             [
              0.7777777777777778,
              "#fb9f3a"
             ],
             [
              0.8888888888888888,
              "#fdca26"
             ],
             [
              1,
              "#f0f921"
             ]
            ],
            "type": "heatmap"
           }
          ],
          "heatmapgl": [
           {
            "colorbar": {
             "outlinewidth": 0,
             "ticks": ""
            },
            "colorscale": [
             [
              0,
              "#0d0887"
             ],
             [
              0.1111111111111111,
              "#46039f"
             ],
             [
              0.2222222222222222,
              "#7201a8"
             ],
             [
              0.3333333333333333,
              "#9c179e"
             ],
             [
              0.4444444444444444,
              "#bd3786"
             ],
             [
              0.5555555555555556,
              "#d8576b"
             ],
             [
              0.6666666666666666,
              "#ed7953"
             ],
             [
              0.7777777777777778,
              "#fb9f3a"
             ],
             [
              0.8888888888888888,
              "#fdca26"
             ],
             [
              1,
              "#f0f921"
             ]
            ],
            "type": "heatmapgl"
           }
          ],
          "histogram": [
           {
            "marker": {
             "pattern": {
              "fillmode": "overlay",
              "size": 10,
              "solidity": 0.2
             }
            },
            "type": "histogram"
           }
          ],
          "histogram2d": [
           {
            "colorbar": {
             "outlinewidth": 0,
             "ticks": ""
            },
            "colorscale": [
             [
              0,
              "#0d0887"
             ],
             [
              0.1111111111111111,
              "#46039f"
             ],
             [
              0.2222222222222222,
              "#7201a8"
             ],
             [
              0.3333333333333333,
              "#9c179e"
             ],
             [
              0.4444444444444444,
              "#bd3786"
             ],
             [
              0.5555555555555556,
              "#d8576b"
             ],
             [
              0.6666666666666666,
              "#ed7953"
             ],
             [
              0.7777777777777778,
              "#fb9f3a"
             ],
             [
              0.8888888888888888,
              "#fdca26"
             ],
             [
              1,
              "#f0f921"
             ]
            ],
            "type": "histogram2d"
           }
          ],
          "histogram2dcontour": [
           {
            "colorbar": {
             "outlinewidth": 0,
             "ticks": ""
            },
            "colorscale": [
             [
              0,
              "#0d0887"
             ],
             [
              0.1111111111111111,
              "#46039f"
             ],
             [
              0.2222222222222222,
              "#7201a8"
             ],
             [
              0.3333333333333333,
              "#9c179e"
             ],
             [
              0.4444444444444444,
              "#bd3786"
             ],
             [
              0.5555555555555556,
              "#d8576b"
             ],
             [
              0.6666666666666666,
              "#ed7953"
             ],
             [
              0.7777777777777778,
              "#fb9f3a"
             ],
             [
              0.8888888888888888,
              "#fdca26"
             ],
             [
              1,
              "#f0f921"
             ]
            ],
            "type": "histogram2dcontour"
           }
          ],
          "mesh3d": [
           {
            "colorbar": {
             "outlinewidth": 0,
             "ticks": ""
            },
            "type": "mesh3d"
           }
          ],
          "parcoords": [
           {
            "line": {
             "colorbar": {
              "outlinewidth": 0,
              "ticks": ""
             }
            },
            "type": "parcoords"
           }
          ],
          "pie": [
           {
            "automargin": true,
            "type": "pie"
           }
          ],
          "scatter": [
           {
            "fillpattern": {
             "fillmode": "overlay",
             "size": 10,
             "solidity": 0.2
            },
            "type": "scatter"
           }
          ],
          "scatter3d": [
           {
            "line": {
             "colorbar": {
              "outlinewidth": 0,
              "ticks": ""
             }
            },
            "marker": {
             "colorbar": {
              "outlinewidth": 0,
              "ticks": ""
             }
            },
            "type": "scatter3d"
           }
          ],
          "scattercarpet": [
           {
            "marker": {
             "colorbar": {
              "outlinewidth": 0,
              "ticks": ""
             }
            },
            "type": "scattercarpet"
           }
          ],
          "scattergeo": [
           {
            "marker": {
             "colorbar": {
              "outlinewidth": 0,
              "ticks": ""
             }
            },
            "type": "scattergeo"
           }
          ],
          "scattergl": [
           {
            "marker": {
             "colorbar": {
              "outlinewidth": 0,
              "ticks": ""
             }
            },
            "type": "scattergl"
           }
          ],
          "scattermapbox": [
           {
            "marker": {
             "colorbar": {
              "outlinewidth": 0,
              "ticks": ""
             }
            },
            "type": "scattermapbox"
           }
          ],
          "scatterpolar": [
           {
            "marker": {
             "colorbar": {
              "outlinewidth": 0,
              "ticks": ""
             }
            },
            "type": "scatterpolar"
           }
          ],
          "scatterpolargl": [
           {
            "marker": {
             "colorbar": {
              "outlinewidth": 0,
              "ticks": ""
             }
            },
            "type": "scatterpolargl"
           }
          ],
          "scatterternary": [
           {
            "marker": {
             "colorbar": {
              "outlinewidth": 0,
              "ticks": ""
             }
            },
            "type": "scatterternary"
           }
          ],
          "surface": [
           {
            "colorbar": {
             "outlinewidth": 0,
             "ticks": ""
            },
            "colorscale": [
             [
              0,
              "#0d0887"
             ],
             [
              0.1111111111111111,
              "#46039f"
             ],
             [
              0.2222222222222222,
              "#7201a8"
             ],
             [
              0.3333333333333333,
              "#9c179e"
             ],
             [
              0.4444444444444444,
              "#bd3786"
             ],
             [
              0.5555555555555556,
              "#d8576b"
             ],
             [
              0.6666666666666666,
              "#ed7953"
             ],
             [
              0.7777777777777778,
              "#fb9f3a"
             ],
             [
              0.8888888888888888,
              "#fdca26"
             ],
             [
              1,
              "#f0f921"
             ]
            ],
            "type": "surface"
           }
          ],
          "table": [
           {
            "cells": {
             "fill": {
              "color": "#EBF0F8"
             },
             "line": {
              "color": "white"
             }
            },
            "header": {
             "fill": {
              "color": "#C8D4E3"
             },
             "line": {
              "color": "white"
             }
            },
            "type": "table"
           }
          ]
         },
         "layout": {
          "annotationdefaults": {
           "arrowcolor": "#2a3f5f",
           "arrowhead": 0,
           "arrowwidth": 1
          },
          "autotypenumbers": "strict",
          "coloraxis": {
           "colorbar": {
            "outlinewidth": 0,
            "ticks": ""
           }
          },
          "colorscale": {
           "diverging": [
            [
             0,
             "#8e0152"
            ],
            [
             0.1,
             "#c51b7d"
            ],
            [
             0.2,
             "#de77ae"
            ],
            [
             0.3,
             "#f1b6da"
            ],
            [
             0.4,
             "#fde0ef"
            ],
            [
             0.5,
             "#f7f7f7"
            ],
            [
             0.6,
             "#e6f5d0"
            ],
            [
             0.7,
             "#b8e186"
            ],
            [
             0.8,
             "#7fbc41"
            ],
            [
             0.9,
             "#4d9221"
            ],
            [
             1,
             "#276419"
            ]
           ],
           "sequential": [
            [
             0,
             "#0d0887"
            ],
            [
             0.1111111111111111,
             "#46039f"
            ],
            [
             0.2222222222222222,
             "#7201a8"
            ],
            [
             0.3333333333333333,
             "#9c179e"
            ],
            [
             0.4444444444444444,
             "#bd3786"
            ],
            [
             0.5555555555555556,
             "#d8576b"
            ],
            [
             0.6666666666666666,
             "#ed7953"
            ],
            [
             0.7777777777777778,
             "#fb9f3a"
            ],
            [
             0.8888888888888888,
             "#fdca26"
            ],
            [
             1,
             "#f0f921"
            ]
           ],
           "sequentialminus": [
            [
             0,
             "#0d0887"
            ],
            [
             0.1111111111111111,
             "#46039f"
            ],
            [
             0.2222222222222222,
             "#7201a8"
            ],
            [
             0.3333333333333333,
             "#9c179e"
            ],
            [
             0.4444444444444444,
             "#bd3786"
            ],
            [
             0.5555555555555556,
             "#d8576b"
            ],
            [
             0.6666666666666666,
             "#ed7953"
            ],
            [
             0.7777777777777778,
             "#fb9f3a"
            ],
            [
             0.8888888888888888,
             "#fdca26"
            ],
            [
             1,
             "#f0f921"
            ]
           ]
          },
          "colorway": [
           "#636efa",
           "#EF553B",
           "#00cc96",
           "#ab63fa",
           "#FFA15A",
           "#19d3f3",
           "#FF6692",
           "#B6E880",
           "#FF97FF",
           "#FECB52"
          ],
          "font": {
           "color": "#2a3f5f"
          },
          "geo": {
           "bgcolor": "white",
           "lakecolor": "white",
           "landcolor": "#E5ECF6",
           "showlakes": true,
           "showland": true,
           "subunitcolor": "white"
          },
          "hoverlabel": {
           "align": "left"
          },
          "hovermode": "closest",
          "mapbox": {
           "style": "light"
          },
          "paper_bgcolor": "white",
          "plot_bgcolor": "#E5ECF6",
          "polar": {
           "angularaxis": {
            "gridcolor": "white",
            "linecolor": "white",
            "ticks": ""
           },
           "bgcolor": "#E5ECF6",
           "radialaxis": {
            "gridcolor": "white",
            "linecolor": "white",
            "ticks": ""
           }
          },
          "scene": {
           "xaxis": {
            "backgroundcolor": "#E5ECF6",
            "gridcolor": "white",
            "gridwidth": 2,
            "linecolor": "white",
            "showbackground": true,
            "ticks": "",
            "zerolinecolor": "white"
           },
           "yaxis": {
            "backgroundcolor": "#E5ECF6",
            "gridcolor": "white",
            "gridwidth": 2,
            "linecolor": "white",
            "showbackground": true,
            "ticks": "",
            "zerolinecolor": "white"
           },
           "zaxis": {
            "backgroundcolor": "#E5ECF6",
            "gridcolor": "white",
            "gridwidth": 2,
            "linecolor": "white",
            "showbackground": true,
            "ticks": "",
            "zerolinecolor": "white"
           }
          },
          "shapedefaults": {
           "line": {
            "color": "#2a3f5f"
           }
          },
          "ternary": {
           "aaxis": {
            "gridcolor": "white",
            "linecolor": "white",
            "ticks": ""
           },
           "baxis": {
            "gridcolor": "white",
            "linecolor": "white",
            "ticks": ""
           },
           "bgcolor": "#E5ECF6",
           "caxis": {
            "gridcolor": "white",
            "linecolor": "white",
            "ticks": ""
           }
          },
          "title": {
           "x": 0.05
          },
          "xaxis": {
           "automargin": true,
           "gridcolor": "white",
           "linecolor": "white",
           "ticks": "",
           "title": {
            "standoff": 15
           },
           "zerolinecolor": "white",
           "zerolinewidth": 2
          },
          "yaxis": {
           "automargin": true,
           "gridcolor": "white",
           "linecolor": "white",
           "ticks": "",
           "title": {
            "standoff": 15
           },
           "zerolinecolor": "white",
           "zerolinewidth": 2
          }
         }
        },
        "title": {
         "font": {
          "size": 14
         }
        },
        "width": 1000,
        "xaxis": {
         "anchor": "y",
         "domain": [
          0,
          1
         ],
         "range": [
          -0.5,
          11.5
         ],
         "showgrid": true,
         "showticklabels": true,
         "side": "top",
         "tickfont": {
          "size": 18
         },
         "tickmode": "array",
         "ticktext": [
          "1",
          "2",
          "3",
          "4",
          "5",
          "6",
          "7",
          "8",
          "9",
          "10",
          "11",
          "12"
         ],
         "tickvals": [
          0,
          1,
          2,
          3,
          4,
          5,
          6,
          7,
          8,
          9,
          10,
          11
         ],
         "title": {
          "text": ""
         },
         "zeroline": false
        },
        "yaxis": {
         "anchor": "x",
         "domain": [
          0,
          1
         ],
         "range": [
          -0.5,
          7.5
         ],
         "showgrid": true,
         "showticklabels": true,
         "tickfont": {
          "size": 18
         },
         "tickmode": "array",
         "ticktext": [
          "H",
          "G",
          "F",
          "E",
          "D",
          "C",
          "B",
          "A"
         ],
         "tickvals": [
          0,
          1,
          2,
          3,
          4,
          5,
          6,
          7
         ],
         "title": {
          "text": ""
         },
         "zeroline": false
        }
       }
      }
     },
     "metadata": {},
     "output_type": "display_data"
    }
   ],
   "source": [
    "qcp.as_plotly_figure(annotation_metadata_key=\"name\", color_metadata_key=\"sample_code\")"
   ]
  },
  {
   "cell_type": "code",
   "execution_count": 29,
   "metadata": {},
   "outputs": [
    {
     "data": {
      "text/plain": [
       "90"
      ]
     },
     "execution_count": 29,
     "metadata": {},
     "output_type": "execute_result"
    }
   ],
   "source": [
    "qcp.capacity"
   ]
  },
  {
   "cell_type": "code",
   "execution_count": null,
   "metadata": {},
   "outputs": [],
   "source": []
  }
 ],
 "metadata": {
  "kernelspec": {
   "display_name": "dash-plate-planner",
   "language": "python",
   "name": "python3"
  },
  "language_info": {
   "codemirror_mode": {
    "name": "ipython",
    "version": 3
   },
   "file_extension": ".py",
   "mimetype": "text/x-python",
   "name": "python",
   "nbconvert_exporter": "python",
   "pygments_lexer": "ipython3",
   "version": "3.10.13"
  }
 },
 "nbformat": 4,
 "nbformat_minor": 2
}
